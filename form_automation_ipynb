#referring to this website
#https://medium.com/swlh/automatically-filling-multiple-responses-into-a-google-form-with-selenium-and-python-176340c5220d
!apt update
!apt install chromium-chromedriver
!apt install chromium-browser
!apt install -y python3-pyvirtualdisplay
!apt upgrade
!pip install selenium


from selenium import webdriver
from pyvirtualdisplay import Display
import time

option = webdriver.ChromeOptions()
option.add_argument("--headless")
option.add_argument("--disable-gpu")
option.add_argument('--no-sandbox')

chromedriver_location = "/usr/bin/chromedriver"

driver = webdriver.Chrome(chromedriver_location,options=option)
driver.get("your_form_link")



radiobuttons = driver.find_elements_by_class_name("docssharedWizToggleLabeledLabelWrapper")

submitbutton = driver.find_element_by_class_name("appsMaterialWizButtonPaperbuttonContent")

print("class found successfully")

#https://www.kite.com/python/answers/how-to-get-the-indices-of-all-occurrences-of-an-element-in-a-list-in-python
#to find the indexes of the data that you want to input in
print ("The list is : " + str(radiobuttons))
counter = 0
for i in radiobuttons:
  counter = counter + 1
print ("Length of list using naive method is : " + str(counter))


radiobuttons[1].click()
radiobuttons[3].click()

submitbutton.click()

print("process done successfully")
